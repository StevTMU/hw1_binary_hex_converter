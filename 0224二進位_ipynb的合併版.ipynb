{
  "nbformat": 4,
  "nbformat_minor": 0,
  "metadata": {
    "colab": {
      "provenance": [],
      "authorship_tag": "ABX9TyO067Mo4q//htLx8MRIFp21",
      "include_colab_link": true
    },
    "kernelspec": {
      "name": "python3",
      "display_name": "Python 3"
    },
    "language_info": {
      "name": "python"
    },
    "accelerator": "GPU",
    "gpuClass": "standard"
  },
  "cells": [
    {
      "cell_type": "markdown",
      "metadata": {
        "id": "view-in-github",
        "colab_type": "text"
      },
      "source": [
        "<a href=\"https://colab.research.google.com/github/StevTMU/hw1_binary_hex_converter/blob/main/0224%E4%BA%8C%E9%80%B2%E4%BD%8D_ipynb%E7%9A%84%E5%90%88%E4%BD%B5%E7%89%88.ipynb\" target=\"_parent\"><img src=\"https://colab.research.google.com/assets/colab-badge.svg\" alt=\"Open In Colab\"/></a>"
      ]
    },
    {
      "cell_type": "code",
      "source": [
        "def main():\n",
        "    n = int(input(\"Enter a number only integer :\"))\n",
        "\n",
        "# Decimal to Binary:\n",
        "    n_BIN = n\n",
        "    bin_list = []\n",
        "    while True:\n",
        "        Bin_square = n_BIN // 2\n",
        "        Bin2 = n_BIN % 2\n",
        "        bin_list += [str(Bin2)]\n",
        "        n_BIN = Bin_square\n",
        "        if n_BIN == 0:\n",
        "         break\n",
        "         return ''.join(bin_list[::-1])\n",
        "                        \n",
        "    print(\"二進位＝\",''.join(bin_list[::-1]))\n",
        "\n",
        "# Decimal to Hexadecimal:\n",
        "    HexaDigits = \"0123456789ABCDEF\"\n",
        "    n_Hexa = n\n",
        "    Hexa_list = []\n",
        "    while True:\n",
        "        Hexa_square = n_Hexa // 16\n",
        "        Hexa2 = n_Hexa % 16\n",
        "        Hexa_list += [str( HexaDigits[Hexa2] )]\n",
        "        n_Hexa = Hexa_square\n",
        "        if n_Hexa == 0:\n",
        "          break\n",
        "          return ''.join(Hexa_list[::-1])\n",
        "\n",
        "    \n",
        "    print(\"十六進位＝\"+ ''.join(Hexa_list[::-1]))\n",
        "\n",
        "main()"
      ],
      "metadata": {
        "id": "KByeYWMPzbJK",
        "colab": {
          "base_uri": "https://localhost:8080/"
        },
        "outputId": "e2c03e86-7ca5-42ae-f3d2-11515192399d"
      },
      "execution_count": 8,
      "outputs": [
        {
          "output_type": "stream",
          "name": "stdout",
          "text": [
            "Enter a number only integer :255\n",
            "二進位＝ 11111111\n",
            "十六進位＝FF\n"
          ]
        }
      ]
    }
  ]
}