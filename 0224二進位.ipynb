{
  "nbformat": 4,
  "nbformat_minor": 0,
  "metadata": {
    "colab": {
      "provenance": [],
      "authorship_tag": "ABX9TyOK1Uya68o8usdEdR6kCZEn",
      "include_colab_link": true
    },
    "kernelspec": {
      "name": "python3",
      "display_name": "Python 3"
    },
    "language_info": {
      "name": "python"
    },
    "accelerator": "GPU",
    "gpuClass": "standard"
  },
  "cells": [
    {
      "cell_type": "markdown",
      "metadata": {
        "id": "view-in-github",
        "colab_type": "text"
      },
      "source": [
        "<a href=\"https://colab.research.google.com/github/StevTMU/hw1_binary_hex_converter/blob/main/0224%E4%BA%8C%E9%80%B2%E4%BD%8D.ipynb\" target=\"_parent\"><img src=\"https://colab.research.google.com/assets/colab-badge.svg\" alt=\"Open In Colab\"/></a>"
      ]
    },
    {
      "cell_type": "code",
      "source": [
        "# Decimal to Binary:\n",
        "def DecToBinary(n): \n",
        "    bin_num = []\n",
        "    while True:\n",
        "        a = n // 2\n",
        "        b = n % 2\n",
        "        bin_num += [str(b)]\n",
        "        n = a\n",
        "        if n == 0:\n",
        "            break\n",
        "    return ''.join(bin_num[::-1])\n",
        "\n",
        "while True:\n",
        "    try:\n",
        "        n = int(input(\"Enter an integer :\"))\n",
        "        print(\"二進位＝\"+ DecToBinary(n))\n",
        "    except:\n",
        "        break"
      ],
      "metadata": {
        "id": "KByeYWMPzbJK",
        "outputId": "32ae2c0e-1855-416b-96b2-2c29b15450a4",
        "colab": {
          "base_uri": "https://localhost:8080/"
        }
      },
      "execution_count": null,
      "outputs": [
        {
          "output_type": "stream",
          "name": "stdout",
          "text": [
            "Enter a integer :255\n",
            "二進位＝11111111\n"
          ]
        }
      ]
    },
    {
      "cell_type": "code",
      "source": [
        "# Decimal to Hexadecimal:\n",
        "def DecToHexadecimal(n): \n",
        "    HexaDigits = \"0123456789ABCDEF\"\n",
        "    Hexa_num = []\n",
        "    while True:\n",
        "        a = n // 16\n",
        "        b = n % 16\n",
        "        Hexa_num += [str( HexaDigits[b] )]\n",
        "        n = a\n",
        "        if n == 0:\n",
        "          break\n",
        "    return ''.join(Hexa_num[::-1])\n",
        "\n",
        "while True:\n",
        "    try:\n",
        "        n = int(input(\"Enter an integer :\"))\n",
        "        print(\"十六進位＝\"+ DecToHexadecimal(n))\n",
        "    except:\n",
        "        break"
      ],
      "metadata": {
        "colab": {
          "base_uri": "https://localhost:8080/"
        },
        "id": "RfwEVKHTBV8L",
        "outputId": "e67d02d0-f48e-468c-ba94-ef0c39de3b89"
      },
      "execution_count": null,
      "outputs": [
        {
          "output_type": "stream",
          "name": "stdout",
          "text": [
            "Enter a integer :255\n",
            "十六進位＝FF\n"
          ]
        }
      ]
    }
  ]
}