{
  "nbformat": 4,
  "nbformat_minor": 0,
  "metadata": {
    "colab": {
      "provenance": [],
      "authorship_tag": "ABX9TyNdumUlk3zIHYC0Wa74AElp",
      "include_colab_link": true
    },
    "kernelspec": {
      "name": "python3",
      "display_name": "Python 3"
    },
    "language_info": {
      "name": "python"
    },
    "accelerator": "GPU",
    "gpuClass": "standard"
  },
  "cells": [
    {
      "cell_type": "markdown",
      "metadata": {
        "id": "view-in-github",
        "colab_type": "text"
      },
      "source": [
        "<a href=\"https://colab.research.google.com/github/StevTMU/hw1_binary_hex_converter/blob/main/0224%E4%BA%8C%E9%80%B2%E4%BD%8D.ipynb\" target=\"_parent\"><img src=\"https://colab.research.google.com/assets/colab-badge.svg\" alt=\"Open In Colab\"/></a>"
      ]
    },
    {
      "cell_type": "code",
      "source": [
        "# Decimal to Binary:\n",
        "def DecToBinary(n): \n",
        "    num = []\n",
        "    while True:\n",
        "        a = n // 2\n",
        "        b = n % 2\n",
        "        num += [str(b)]\n",
        "        n = a\n",
        "        if n == 0:\n",
        "            break\n",
        "    return ''.join(num[::-1])\n",
        "\n",
        "while True:\n",
        "    try:\n",
        "        n = int(input())\n",
        "        print(\"二進位＝\"+ DecToBinary(n))\n",
        "    except:\n",
        "        break"
      ],
      "metadata": {
        "id": "KByeYWMPzbJK"
      },
      "execution_count": null,
      "outputs": []
    },
    {
      "cell_type": "code",
      "source": [
        "# Decimal to Hexadecimal:\n",
        "def DecToHexadecimal(n): \n",
        "    HexaDigits = \"0123456789ABCDEF\"\n",
        "    num = []\n",
        "    while True:\n",
        "        a = n // 16\n",
        "        b = n % 16\n",
        "        num += [str( HexaDigits[b] )]\n",
        "        n = a\n",
        "        if n == 0:\n",
        "          break\n",
        "    return ''.join(num[::-1])\n",
        "\n",
        "while True:\n",
        "    try:\n",
        "        n = int(input())\n",
        "        print(\"十六進位＝\"+ DecToHexadecimal(n))\n",
        "    except:\n",
        "        break"
      ],
      "metadata": {
        "colab": {
          "base_uri": "https://localhost:8080/"
        },
        "id": "RfwEVKHTBV8L",
        "outputId": "ef1412ae-639a-4d23-f519-6abfc806537a"
      },
      "execution_count": 1,
      "outputs": [
        {
          "output_type": "stream",
          "name": "stdout",
          "text": [
            "255\n",
            "十六進位＝FF\n",
            "244\n",
            "十六進位＝F4\n",
            "15\n",
            "十六進位＝F\n"
          ]
        }
      ]
    }
  ]
}