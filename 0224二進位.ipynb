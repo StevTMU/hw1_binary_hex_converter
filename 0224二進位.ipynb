{
  "nbformat": 4,
  "nbformat_minor": 0,
  "metadata": {
    "colab": {
      "provenance": [],
      "authorship_tag": "ABX9TyOXrnexa2fK0klPvs6RPMm2",
      "include_colab_link": true
    },
    "kernelspec": {
      "name": "python3",
      "display_name": "Python 3"
    },
    "language_info": {
      "name": "python"
    },
    "accelerator": "GPU",
    "gpuClass": "standard"
  },
  "cells": [
    {
      "cell_type": "markdown",
      "metadata": {
        "id": "view-in-github",
        "colab_type": "text"
      },
      "source": [
        "<a href=\"https://colab.research.google.com/github/StevTMU/hw1_binary_hex_converter/blob/main/0224%E4%BA%8C%E9%80%B2%E4%BD%8D.ipynb\" target=\"_parent\"><img src=\"https://colab.research.google.com/assets/colab-badge.svg\" alt=\"Open In Colab\"/></a>"
      ]
    },
    {
      "cell_type": "code",
      "execution_count": null,
      "metadata": {
        "id": "Ub-tfTUZDXkM",
        "colab": {
          "base_uri": "https://localhost:8080/"
        },
        "outputId": "94cb4100-a7c0-49c8-fd7d-37e32871c61d"
      },
      "outputs": [
        {
          "output_type": "execute_result",
          "data": {
            "text/plain": [
              "<function __main__.DecToBin(num)>"
            ]
          },
          "metadata": {},
          "execution_count": 10
        }
      ],
      "source": [
        "# Decimal to Binary:\n",
        "def DecToBin(num):\n",
        "  numZ = int(num)\n",
        "  numfloat = num - numZ\n",
        "  hundrednumZ = numZ //100\n",
        "  tennumZ = int(numZ - hundrednumZ*100) //10\n",
        "  unitnmuZ = int(numZ - hundrednumZ*100 - tennumZ*10)\n",
        "  \n",
        "  binary_value = hundrednumZ + tennumZ + unitnumZ + '.'\n",
        "  return binary_value\n",
        "  print(binary_value)\n",
        "\n",
        "DecToBin\n"
      ]
    },
    {
      "cell_type": "code",
      "source": [
        "# Decimal to Binary:\n",
        "num = int(input())\n",
        "\n",
        "def DecToBin(num):\n",
        "  numZ = int(num)\n",
        "  numfloat = num - numZ\n",
        "  hundrednumZ = numZ //100\n",
        "  tennumZ = int(numZ - hundrednumZ*100) //10\n",
        "  unitnmuZ = int(numZ - hundrednumZ*100 - tennumZ*10)\n",
        "  \n",
        "  binary_value = hundrednumZ + tennumZ + unitnumZ + '.'\n",
        "  return binary_value\n",
        "  print(binary_value)\n"
      ],
      "metadata": {
        "id": "NRZZiR7FK48l",
        "outputId": "0cab9a4a-e89b-4adf-a21e-d7dc9a719de1",
        "colab": {
          "base_uri": "https://localhost:8080/",
          "height": 375
        }
      },
      "execution_count": 21,
      "outputs": [
        {
          "output_type": "error",
          "ename": "KeyboardInterrupt",
          "evalue": "ignored",
          "traceback": [
            "\u001b[0;31m---------------------------------------------------------------------------\u001b[0m",
            "\u001b[0;31mKeyboardInterrupt\u001b[0m                         Traceback (most recent call last)",
            "\u001b[0;32m<ipython-input-21-04f037e2f0f0>\u001b[0m in \u001b[0;36m<module>\u001b[0;34m\u001b[0m\n\u001b[1;32m      1\u001b[0m \u001b[0;31m# Decimal to Binary:\u001b[0m\u001b[0;34m\u001b[0m\u001b[0;34m\u001b[0m\u001b[0;34m\u001b[0m\u001b[0m\n\u001b[0;32m----> 2\u001b[0;31m \u001b[0mnum\u001b[0m \u001b[0;34m=\u001b[0m \u001b[0mint\u001b[0m\u001b[0;34m(\u001b[0m\u001b[0minput\u001b[0m\u001b[0;34m(\u001b[0m\u001b[0;34m)\u001b[0m\u001b[0;34m)\u001b[0m\u001b[0;34m\u001b[0m\u001b[0;34m\u001b[0m\u001b[0m\n\u001b[0m\u001b[1;32m      3\u001b[0m \u001b[0;34m\u001b[0m\u001b[0m\n\u001b[1;32m      4\u001b[0m \u001b[0;32mdef\u001b[0m \u001b[0mDecToBin\u001b[0m\u001b[0;34m(\u001b[0m\u001b[0mnum\u001b[0m\u001b[0;34m)\u001b[0m\u001b[0;34m:\u001b[0m\u001b[0;34m\u001b[0m\u001b[0;34m\u001b[0m\u001b[0m\n\u001b[1;32m      5\u001b[0m   \u001b[0mnumZ\u001b[0m \u001b[0;34m=\u001b[0m \u001b[0mint\u001b[0m\u001b[0;34m(\u001b[0m\u001b[0mnum\u001b[0m\u001b[0;34m)\u001b[0m\u001b[0;34m\u001b[0m\u001b[0;34m\u001b[0m\u001b[0m\n",
            "\u001b[0;32m/usr/local/lib/python3.8/dist-packages/ipykernel/kernelbase.py\u001b[0m in \u001b[0;36mraw_input\u001b[0;34m(self, prompt)\u001b[0m\n\u001b[1;32m    858\u001b[0m                 \u001b[0;34m\"raw_input was called, but this frontend does not support input requests.\"\u001b[0m\u001b[0;34m\u001b[0m\u001b[0;34m\u001b[0m\u001b[0m\n\u001b[1;32m    859\u001b[0m             )\n\u001b[0;32m--> 860\u001b[0;31m         return self._input_request(str(prompt),\n\u001b[0m\u001b[1;32m    861\u001b[0m             \u001b[0mself\u001b[0m\u001b[0;34m.\u001b[0m\u001b[0m_parent_ident\u001b[0m\u001b[0;34m,\u001b[0m\u001b[0;34m\u001b[0m\u001b[0;34m\u001b[0m\u001b[0m\n\u001b[1;32m    862\u001b[0m             \u001b[0mself\u001b[0m\u001b[0;34m.\u001b[0m\u001b[0m_parent_header\u001b[0m\u001b[0;34m,\u001b[0m\u001b[0;34m\u001b[0m\u001b[0;34m\u001b[0m\u001b[0m\n",
            "\u001b[0;32m/usr/local/lib/python3.8/dist-packages/ipykernel/kernelbase.py\u001b[0m in \u001b[0;36m_input_request\u001b[0;34m(self, prompt, ident, parent, password)\u001b[0m\n\u001b[1;32m    902\u001b[0m             \u001b[0;32mexcept\u001b[0m \u001b[0mKeyboardInterrupt\u001b[0m\u001b[0;34m:\u001b[0m\u001b[0;34m\u001b[0m\u001b[0;34m\u001b[0m\u001b[0m\n\u001b[1;32m    903\u001b[0m                 \u001b[0;31m# re-raise KeyboardInterrupt, to truncate traceback\u001b[0m\u001b[0;34m\u001b[0m\u001b[0;34m\u001b[0m\u001b[0;34m\u001b[0m\u001b[0m\n\u001b[0;32m--> 904\u001b[0;31m                 \u001b[0;32mraise\u001b[0m \u001b[0mKeyboardInterrupt\u001b[0m\u001b[0;34m(\u001b[0m\u001b[0;34m\"Interrupted by user\"\u001b[0m\u001b[0;34m)\u001b[0m \u001b[0;32mfrom\u001b[0m \u001b[0;32mNone\u001b[0m\u001b[0;34m\u001b[0m\u001b[0;34m\u001b[0m\u001b[0m\n\u001b[0m\u001b[1;32m    905\u001b[0m             \u001b[0;32mexcept\u001b[0m \u001b[0mException\u001b[0m \u001b[0;32mas\u001b[0m \u001b[0me\u001b[0m\u001b[0;34m:\u001b[0m\u001b[0;34m\u001b[0m\u001b[0;34m\u001b[0m\u001b[0m\n\u001b[1;32m    906\u001b[0m                 \u001b[0mself\u001b[0m\u001b[0;34m.\u001b[0m\u001b[0mlog\u001b[0m\u001b[0;34m.\u001b[0m\u001b[0mwarning\u001b[0m\u001b[0;34m(\u001b[0m\u001b[0;34m\"Invalid Message:\"\u001b[0m\u001b[0;34m,\u001b[0m \u001b[0mexc_info\u001b[0m\u001b[0;34m=\u001b[0m\u001b[0;32mTrue\u001b[0m\u001b[0;34m)\u001b[0m\u001b[0;34m\u001b[0m\u001b[0;34m\u001b[0m\u001b[0m\n",
            "\u001b[0;31mKeyboardInterrupt\u001b[0m: Interrupted by user"
          ]
        }
      ]
    },
    {
      "cell_type": "code",
      "source": [
        "# Decimal to Binary:\n",
        "num = int(input())\n",
        "b1 = num//128\n",
        "b2 = (num - b1*128)//64\n",
        "b3 = (num - b1*128 - b2*64)//32\n",
        "b4= num//16\n",
        "b5 = num//8\n",
        "b6 = num//4\n",
        "b7 = num//2\n",
        "\n",
        "print(b1+b2)\n",
        "def DecToBin(num):\n",
        "  print(b1+b2)\n"
      ],
      "metadata": {
        "colab": {
          "base_uri": "https://localhost:8080/"
        },
        "id": "BjrRSwab28PG",
        "outputId": "de13830d-f27c-40fb-f449-5361ecf2a057"
      },
      "execution_count": 5,
      "outputs": [
        {
          "output_type": "stream",
          "name": "stdout",
          "text": [
            "255\n",
            "2\n"
          ]
        }
      ]
    },
    {
      "cell_type": "code",
      "source": [
        "n = int(input())\n",
        "numbers = ''\n",
        "while True:\n",
        "    a = n // 2\n",
        "    b = n % 2\n",
        "    numbers += str(b)\n",
        "    n = a\n",
        "    if n == 0:\n",
        "        break\n",
        "numbers = numbers.split('0')"
      ],
      "metadata": {
        "colab": {
          "base_uri": "https://localhost:8080/"
        },
        "id": "blIEnEgg28Qi",
        "outputId": "8d773064-78bc-4972-fb57-1b5f88fee174"
      },
      "execution_count": 7,
      "outputs": [
        {
          "name": "stdout",
          "output_type": "stream",
          "text": [
            "255\n"
          ]
        }
      ]
    },
    {
      "cell_type": "code",
      "source": [
        "# Decimal to 十六進位:"
      ],
      "metadata": {
        "id": "GIQwhDEfArSb"
      },
      "execution_count": null,
      "outputs": []
    },
    {
      "cell_type": "code",
      "source": [
        "# Decimal to Binary:\n",
        "def DecToBinary(n): \n",
        "    num = []\n",
        "    while True:\n",
        "        a = n // 2\n",
        "        b = n % 2\n",
        "        num += [str(b)]\n",
        "        n = a\n",
        "        if n == 0:\n",
        "            break\n",
        "    return ''.join(num[::-1])\n",
        "\n",
        "while True:\n",
        "    try:\n",
        "        n = int(input())\n",
        "        print(\"二進位＝\"+ DecToBinary(n))\n",
        "    except:\n",
        "        break"
      ],
      "metadata": {
        "colab": {
          "base_uri": "https://localhost:8080/"
        },
        "id": "KByeYWMPzbJK",
        "outputId": "685db986-1c26-4e14-c876-1c487843d556"
      },
      "execution_count": null,
      "outputs": [
        {
          "output_type": "stream",
          "name": "stdout",
          "text": [
            "255\n",
            "二進位＝11111111\n",
            "二進位＝11111111\n",
            "256\n",
            "二進位＝100000000\n"
          ]
        }
      ]
    },
    {
      "cell_type": "code",
      "source": [
        "# Decimal to 十六進位:\n",
        "def DecToSIXTEENary(n): \n",
        "    num = []\n",
        "    while True:\n",
        "        a = n // 16\n",
        "        b = n % 16\n",
        "        num += [str(b)]\n",
        "        n = a\n",
        "        if n == 0:\n",
        "          break\n",
        "    return ''.join(num[::-1])\n",
        "\n",
        "while True:\n",
        "    try:\n",
        "        n = int(input())\n",
        "        print(\"十六進位＝\"+ DecToSIXTEENary(n))\n",
        "    except:\n",
        "        break"
      ],
      "metadata": {
        "colab": {
          "base_uri": "https://localhost:8080/"
        },
        "id": "RfwEVKHTBV8L",
        "outputId": "6821f149-e753-4493-e5a9-3c90e7f26819"
      },
      "execution_count": 4,
      "outputs": [
        {
          "name": "stdout",
          "output_type": "stream",
          "text": [
            "255\n"
          ]
        }
      ]
    }
  ]
}