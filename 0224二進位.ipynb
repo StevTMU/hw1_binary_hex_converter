{
  "nbformat": 4,
  "nbformat_minor": 0,
  "metadata": {
    "colab": {
      "provenance": [],
      "authorship_tag": "ABX9TyMIafW4LhRGauVU+htO0znn",
      "include_colab_link": true
    },
    "kernelspec": {
      "name": "python3",
      "display_name": "Python 3"
    },
    "language_info": {
      "name": "python"
    },
    "accelerator": "GPU",
    "gpuClass": "standard"
  },
  "cells": [
    {
      "cell_type": "markdown",
      "metadata": {
        "id": "view-in-github",
        "colab_type": "text"
      },
      "source": [
        "<a href=\"https://colab.research.google.com/github/StevTMU/hw1_binary_hex_converter/blob/main/0224%E4%BA%8C%E9%80%B2%E4%BD%8D.ipynb\" target=\"_parent\"><img src=\"https://colab.research.google.com/assets/colab-badge.svg\" alt=\"Open In Colab\"/></a>"
      ]
    },
    {
      "cell_type": "code",
      "source": [
        "# Decimal to Binary:\n",
        "def DecToBinary(n): \n",
        "    num = []\n",
        "    while True:\n",
        "        a = n // 2\n",
        "        b = n % 2\n",
        "        num += [str(b)]\n",
        "        n = a\n",
        "        if n == 0:\n",
        "            break\n",
        "    return ''.join(num[::-1])\n",
        "\n",
        "while True:\n",
        "    try:\n",
        "        n = int(input())\n",
        "        print(\"二進位＝\"+ DecToBinary(n))\n",
        "    except:\n",
        "        break"
      ],
      "metadata": {
        "colab": {
          "base_uri": "https://localhost:8080/"
        },
        "id": "KByeYWMPzbJK",
        "outputId": "554532e7-1155-46bb-c1c1-d613a09db1d2"
      },
      "execution_count": null,
      "outputs": [
        {
          "output_type": "stream",
          "name": "stdout",
          "text": [
            "255\n",
            "二進位＝11111111\n"
          ]
        }
      ]
    },
    {
      "cell_type": "code",
      "source": [
        "# Decimal to 十六進位:\n",
        "def DecToSIXTEENary(n): \n",
        "    num = []\n",
        "    while True:\n",
        "        a = n // 16\n",
        "        b = n % 16\n",
        "        num += [str(b)]\n",
        "        n = a\n",
        "        if n == 0:\n",
        "          break\n",
        "    return ''.join(num[::-1])\n",
        "\n",
        "while True:\n",
        "    try:\n",
        "        n = int(input())\n",
        "        print(\"十六進位＝\"+ DecToSIXTEENary(n))\n",
        "    except:\n",
        "        break"
      ],
      "metadata": {
        "colab": {
          "base_uri": "https://localhost:8080/"
        },
        "id": "RfwEVKHTBV8L",
        "outputId": "62e2c715-e533-4692-861b-201d9493313c"
      },
      "execution_count": null,
      "outputs": [
        {
          "metadata": {
            "tags": null
          },
          "name": "stdout",
          "output_type": "stream",
          "text": [
            "十六進位＝1515\n"
          ]
        }
      ]
    }
  ]
}